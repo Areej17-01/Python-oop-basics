{
 "cells": [
  {
   "cell_type": "markdown",
   "id": "2211611f",
   "metadata": {},
   "source": [
    "use dunder methods to add,know length,print and others we usually use in string to print and all\n",
    "\n"
   ]
  },
  {
   "cell_type": "code",
   "execution_count": 21,
   "id": "2c998324",
   "metadata": {},
   "outputs": [],
   "source": [
    "class member():\n",
    "    email_no=0\n",
    "    def __init__(self,id_no,firstname,lastname,designation,salary=None):\n",
    "        self.id_no=id_no\n",
    "        self.firstname=firstname\n",
    "        self.lastname=lastname\n",
    "        self.designation=designation\n",
    "        self.fullname=None\n",
    "        self.salary=salary\n",
    "        self.email=None\n",
    "        \n",
    "    def create_email(self):\n",
    "        self.email=self.firstname+ self.lastname+str(self.email_no)+\"@gmail.com\"\n",
    "        self.email_no+=1\n",
    "        return(self.email)\n",
    "        \n",
    "        return(email)\n",
    "    def full_name(self):\n",
    "        self.fullname=self.firstname+\" \"+ self.lastname\n",
    "        return(self.fullname)\n",
    "        \n",
    "    #for other developer to know code\n",
    "    def __repr__(self):\n",
    "        return \"member('{}', '{}', {})\".format(self.firstname, self.lastname, self.designation)\n",
    "    \n",
    "    #for of for just view\n",
    "    def __str__(self):\n",
    "        return '{} - {}'.format(self.full_name(), self.create_email())\n",
    "    \n",
    "    #these dunder method can also be used without class with other data types example in other cell down below \n",
    "    def __add__(self, other):\n",
    "        return self.salary + other.salary\n",
    "\n",
    "    def __len__(self):\n",
    "        return len(self.full_name())\n",
    "     \n",
    "        "
   ]
  },
  {
   "cell_type": "code",
   "execution_count": 22,
   "id": "10443fb1",
   "metadata": {},
   "outputs": [
    {
     "data": {
      "text/plain": [
       "'batman idk'"
      ]
     },
     "execution_count": 22,
     "metadata": {},
     "output_type": "execute_result"
    }
   ],
   "source": [
    "stud1=member(\"100\",\"ironman\",\"idk\",\"teacher\",2332)\n",
    "\n",
    "stud1.full_name()\n",
    "stud2=member(\"101\",\"batman\",\"idk\",\"teacher\",355353)\n",
    "\n",
    "stud2.full_name()"
   ]
  },
  {
   "cell_type": "code",
   "execution_count": 18,
   "id": "043b5b6b",
   "metadata": {},
   "outputs": [
    {
     "data": {
      "text/plain": [
       "11"
      ]
     },
     "execution_count": 18,
     "metadata": {},
     "output_type": "execute_result"
    }
   ],
   "source": [
    "len(stud1)"
   ]
  },
  {
   "cell_type": "markdown",
   "id": "78684f85",
   "metadata": {},
   "source": [
    "add dunder :adding salaries"
   ]
  },
  {
   "cell_type": "code",
   "execution_count": 19,
   "id": "2ce968cf",
   "metadata": {},
   "outputs": [
    {
     "data": {
      "text/plain": [
       "357685"
      ]
     },
     "execution_count": 19,
     "metadata": {},
     "output_type": "execute_result"
    }
   ],
   "source": [
    "stud1+stud2"
   ]
  },
  {
   "cell_type": "markdown",
   "id": "ec7669e8",
   "metadata": {},
   "source": [
    "## without repr and str"
   ]
  },
  {
   "cell_type": "code",
   "execution_count": 6,
   "id": "79fe7aca",
   "metadata": {},
   "outputs": [
    {
     "name": "stdout",
     "output_type": "stream",
     "text": [
      "<__main__.Employee object at 0x000002A63B2784C0>\n"
     ]
    }
   ],
   "source": [
    "print(emp1)"
   ]
  },
  {
   "cell_type": "markdown",
   "id": "8e7cfac6",
   "metadata": {},
   "source": [
    "# with"
   ]
  },
  {
   "cell_type": "code",
   "execution_count": 23,
   "id": "fca3011a",
   "metadata": {},
   "outputs": [
    {
     "name": "stdout",
     "output_type": "stream",
     "text": [
      "ironman idk - ironmanidk0@gmail.com\n"
     ]
    }
   ],
   "source": [
    "print(stud1)"
   ]
  },
  {
   "cell_type": "markdown",
   "id": "00f85e21",
   "metadata": {},
   "source": [
    "### dunder methods of python without class"
   ]
  },
  {
   "cell_type": "code",
   "execution_count": 2,
   "id": "2c8173f2",
   "metadata": {},
   "outputs": [
    {
     "name": "stdout",
     "output_type": "stream",
     "text": [
      "4\n"
     ]
    }
   ],
   "source": [
    "print(int.__add__(1,3))"
   ]
  },
  {
   "cell_type": "code",
   "execution_count": null,
   "id": "a057d313",
   "metadata": {},
   "outputs": [],
   "source": []
  }
 ],
 "metadata": {
  "kernelspec": {
   "display_name": "Python 3 (ipykernel)",
   "language": "python",
   "name": "python3"
  },
  "language_info": {
   "codemirror_mode": {
    "name": "ipython",
    "version": 3
   },
   "file_extension": ".py",
   "mimetype": "text/x-python",
   "name": "python",
   "nbconvert_exporter": "python",
   "pygments_lexer": "ipython3",
   "version": "3.9.12"
  }
 },
 "nbformat": 4,
 "nbformat_minor": 5
}
