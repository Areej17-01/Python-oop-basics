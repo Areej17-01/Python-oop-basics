{
 "cells": [
  {
   "cell_type": "code",
   "execution_count": 1,
   "id": "671ce52d",
   "metadata": {},
   "outputs": [],
   "source": [
    "#REGULAR,CLASS AND STATIC METHOD"
   ]
  },
  {
   "cell_type": "code",
   "execution_count": 2,
   "id": "1d1ccbdd",
   "metadata": {},
   "outputs": [],
   "source": [
    "#Regular method directly take instance as arg first (mentioning self(changeable))"
   ]
  },
  {
   "cell_type": "code",
   "execution_count": 3,
   "id": "eb21c6ec",
   "metadata": {},
   "outputs": [],
   "source": [
    "#class as first method \n",
    "#changing value in instance will still change the classvariable\n",
    "#CLASS METHOD PASS CLASS AS FIRST ARG"
   ]
  },
  {
   "cell_type": "markdown",
   "id": "725397dd",
   "metadata": {},
   "source": [
    "# class methods"
   ]
  },
  {
   "cell_type": "code",
   "execution_count": 52,
   "id": "025609f6",
   "metadata": {},
   "outputs": [],
   "source": [
    "\n",
    "class Employee:\n",
    "    #class variable\n",
    "    no_of_emp=0\n",
    "    salary_raise=1.41\n",
    "    def __init__(self, first, last, pay):\n",
    "        self.first = first\n",
    "        self.last = last\n",
    "        self.email = first + '.' + last + '@email.com'\n",
    "        self.pay = pay\n",
    "        Employee.no_of_emp+=1\n",
    "        #employee number (sequence in which they entered)\n",
    "        self.variable=Employee.no_of_emp\n",
    "\n",
    "    def fullname(self):\n",
    "        return '{} {}'.format(self.first, self.last)\n",
    "    def apply_raise(self):\n",
    "        return \"raised salary is {}\".format(self.salary_raise*self.pay) # or you can call class variable with employee.salary_raise\n",
    "    @classmethod\n",
    "    def self_raise(cls,amount):\n",
    "        #can't pass class as arg as class is built-in and is against variable naming rules.\n",
    "        #cls mentioning is imp\n",
    "        cls.salary_raise=amount\n",
    "    \n",
    "emp1 = Employee('my', \"email\", 50000)\n",
    "emp2 = Employee('Test', 'Employee', 60000)\n"
   ]
  },
  {
   "cell_type": "code",
   "execution_count": 53,
   "id": "a03a2699",
   "metadata": {},
   "outputs": [],
   "source": [
    "#changing value in one instance will still change the classvariable for all\n",
    "#i.e\n",
    "emp1.self_raise(1.05)"
   ]
  },
  {
   "cell_type": "code",
   "execution_count": 54,
   "id": "c8159589",
   "metadata": {},
   "outputs": [
    {
     "data": {
      "text/plain": [
       "(1.05, 1.05, 1.05)"
      ]
     },
     "execution_count": 54,
     "metadata": {},
     "output_type": "execute_result"
    }
   ],
   "source": [
    "emp1.salary_raise,emp2.salary_raise,Employee.salary_raise"
   ]
  },
  {
   "cell_type": "markdown",
   "id": "8c3af726",
   "metadata": {},
   "source": [
    "if you want to just parse string for all args"
   ]
  },
  {
   "cell_type": "code",
   "execution_count": 36,
   "id": "a14e575f",
   "metadata": {},
   "outputs": [],
   "source": [
    "#CLASS METHODS AS CONSTRUCTOR\n",
    "class Employee:\n",
    "    #class variable\n",
    "    no_of_emp=0\n",
    "    salary_raise=1.41\n",
    "    def __init__(self, first, last, pay):\n",
    "        self.first = first\n",
    "        self.last = last\n",
    "        self.email = first + '.' + last + '@email.com'\n",
    "        self.pay = pay\n",
    "        Employee.no_of_emp+=1\n",
    "        #employee number (sequence in which they entered)\n",
    "        self.variable=Employee.no_of_emp\n",
    "\n",
    "    def fullname(self):\n",
    "        return '{} {}'.format(self.first, self.last)\n",
    "    def apply_raise(self):\n",
    "        return \"raised salary is {}\".format(self.salary_raise*self.pay) # or you can call class variable with employee.salary_raise\n",
    "    @classmethod\n",
    "    def self_raise(cls,amount):\n",
    "        #can't pass class as arg as class is built-in and is against variable naming rules.\n",
    "        #cls mentioning is imp\n",
    "        cls.salary_raise=amount\n",
    "    @classmethod\n",
    "    def parse_string(cls,string):\n",
    "        first,last,pay=string.split(\"-\")\n",
    "        return cls(first,last,pay)\n",
    "\n",
    "    \n",
    "emp1 = Employee('my', \"email\", 50000)\n",
    "emp2 = Employee('Test', 'Employee', 60000)\n"
   ]
  },
  {
   "cell_type": "code",
   "execution_count": 37,
   "id": "c748584d",
   "metadata": {},
   "outputs": [
    {
     "data": {
      "text/plain": [
       "{'first': 'my',\n",
       " 'last': 'email',\n",
       " 'email': 'my.email@email.com',\n",
       " 'pay': 50000,\n",
       " 'variable': 1}"
      ]
     },
     "execution_count": 37,
     "metadata": {},
     "output_type": "execute_result"
    }
   ],
   "source": [
    "emp1.__dict__"
   ]
  },
  {
   "cell_type": "code",
   "execution_count": 38,
   "id": "2e77e806",
   "metadata": {},
   "outputs": [],
   "source": [
    "emp3=Employee.parse_string(\"my-email-50000\")"
   ]
  },
  {
   "cell_type": "code",
   "execution_count": 39,
   "id": "b7fb3f33",
   "metadata": {},
   "outputs": [
    {
     "data": {
      "text/plain": [
       "{'first': 'my',\n",
       " 'last': 'email',\n",
       " 'email': 'my.email@email.com',\n",
       " 'pay': '50000',\n",
       " 'variable': 3}"
      ]
     },
     "execution_count": 39,
     "metadata": {},
     "output_type": "execute_result"
    }
   ],
   "source": [
    "emp3.__dict__"
   ]
  },
  {
   "cell_type": "code",
   "execution_count": 40,
   "id": "cf96e73c",
   "metadata": {},
   "outputs": [],
   "source": [
    "emp4=Employee.parse_string(\"my-email-50000\")"
   ]
  },
  {
   "cell_type": "code",
   "execution_count": 41,
   "id": "33a2338d",
   "metadata": {},
   "outputs": [
    {
     "data": {
      "text/plain": [
       "{'first': 'my',\n",
       " 'last': 'email',\n",
       " 'email': 'my.email@email.com',\n",
       " 'pay': '50000',\n",
       " 'variable': 4}"
      ]
     },
     "execution_count": 41,
     "metadata": {},
     "output_type": "execute_result"
    }
   ],
   "source": [
    "emp4.__dict__"
   ]
  },
  {
   "cell_type": "markdown",
   "id": "5dd3301d",
   "metadata": {},
   "source": [
    "# static methods"
   ]
  },
  {
   "cell_type": "code",
   "execution_count": 42,
   "id": "ab05f28f",
   "metadata": {},
   "outputs": [],
   "source": [
    "#STATIC PASSES NOTHING AUTOMATICALLY\n",
    "#THEY ARE LIKE NORMAL FUNCTIONS WE MAKE\n"
   ]
  },
  {
   "cell_type": "code",
   "execution_count": 48,
   "id": "524efb78",
   "metadata": {},
   "outputs": [],
   "source": [
    "#CLASS METHODS AS CONSTRUCTOR\n",
    "class Employee:\n",
    "    #class variable\n",
    "    no_of_emp=0\n",
    "    salary_raise=1.41\n",
    "    def __init__(self, first, last, pay):\n",
    "        self.first = first\n",
    "        self.last = last\n",
    "        self.email = first + '.' + last + '@email.com'\n",
    "        self.pay = pay\n",
    "        Employee.no_of_emp+=1\n",
    "        #employee number (sequence in which they entered)\n",
    "        self.variable=Employee.no_of_emp\n",
    "\n",
    "    def fullname(self):\n",
    "        return '{} {}'.format(self.first, self.last)\n",
    "    def apply_raise(self):\n",
    "        return \"raised salary is {}\".format(self.salary_raise*self.pay) # or you can call class variable with employee.salary_raise\n",
    "    @staticmethod\n",
    "    def healthleaves(no_of_offs):\n",
    "        if no_of_offs<=10:\n",
    "            return \"leaves remaining=\"+str(10-no_of_offs)\n",
    "        else:\n",
    "            return \"no leaves left\"\n",
    "\n",
    "    \n",
    "emp1 = Employee('my', \"email\", 50000)\n",
    "emp2 = Employee('Test', 'Employee', 60000)\n"
   ]
  },
  {
   "cell_type": "code",
   "execution_count": 49,
   "id": "f968ee1f",
   "metadata": {},
   "outputs": [
    {
     "data": {
      "text/plain": [
       "'leaves remaining=1'"
      ]
     },
     "execution_count": 49,
     "metadata": {},
     "output_type": "execute_result"
    }
   ],
   "source": [
    "emp1.healthleaves(9)"
   ]
  },
  {
   "cell_type": "code",
   "execution_count": 50,
   "id": "24896e92",
   "metadata": {},
   "outputs": [
    {
     "data": {
      "text/plain": [
       "'no leaves left'"
      ]
     },
     "execution_count": 50,
     "metadata": {},
     "output_type": "execute_result"
    }
   ],
   "source": [
    "emp2.healthleaves(19)"
   ]
  },
  {
   "cell_type": "code",
   "execution_count": null,
   "id": "da547481",
   "metadata": {},
   "outputs": [],
   "source": []
  }
 ],
 "metadata": {
  "kernelspec": {
   "display_name": "Python 3 (ipykernel)",
   "language": "python",
   "name": "python3"
  },
  "language_info": {
   "codemirror_mode": {
    "name": "ipython",
    "version": 3
   },
   "file_extension": ".py",
   "mimetype": "text/x-python",
   "name": "python",
   "nbconvert_exporter": "python",
   "pygments_lexer": "ipython3",
   "version": "3.9.12"
  }
 },
 "nbformat": 4,
 "nbformat_minor": 5
}
