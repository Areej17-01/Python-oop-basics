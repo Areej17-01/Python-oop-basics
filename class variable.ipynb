{
 "cells": [
  {
   "cell_type": "code",
   "execution_count": 11,
   "id": "6da95adc",
   "metadata": {},
   "outputs": [],
   "source": [
    "\n",
    "class Employee:\n",
    "    #class variable\n",
    "    salary_raise=1.41\n",
    "    def __init__(self, first, last, pay):\n",
    "        self.first = first\n",
    "        self.last = last\n",
    "        self.email = first + '.' + last + '@email.com'\n",
    "        self.pay = pay\n",
    "\n",
    "    def fullname(self):\n",
    "        return '{} {}'.format(self.first, self.last)\n",
    "    def apply_raise(self):\n",
    "        return \"raised salary is {}\".format(self.salary_raise*self.pay) # or ypu can call class variable with employee.salary_raise\n",
    "    \n",
    "\n",
    "emp_1 = Employee('my', \"email\", 50000)\n",
    "emp_2 = Employee('Test', 'Employee', 60000)\n"
   ]
  },
  {
   "cell_type": "code",
   "execution_count": 3,
   "id": "17fc1fb8",
   "metadata": {},
   "outputs": [
    {
     "data": {
      "text/plain": [
       "'raised salary is 70500.0'"
      ]
     },
     "execution_count": 3,
     "metadata": {},
     "output_type": "execute_result"
    }
   ],
   "source": [
    "emp_1.apply_raise()"
   ]
  },
  {
   "cell_type": "code",
   "execution_count": 14,
   "id": "d9100ccc",
   "metadata": {},
   "outputs": [
    {
     "data": {
      "text/plain": [
       "{'first': 'Test',\n",
       " 'last': 'Employee',\n",
       " 'email': 'Test.Employee@email.com',\n",
       " 'pay': 60000}"
      ]
     },
     "execution_count": 14,
     "metadata": {},
     "output_type": "execute_result"
    }
   ],
   "source": [
    "#create dictionary for instance\n",
    "emp_2.__dict__"
   ]
  },
  {
   "cell_type": "code",
   "execution_count": 15,
   "id": "5533f740",
   "metadata": {},
   "outputs": [
    {
     "data": {
      "text/plain": [
       "mappingproxy({'__module__': '__main__',\n",
       "              'salary_raise': 1.41,\n",
       "              '__init__': <function __main__.Employee.__init__(self, first, last, pay)>,\n",
       "              'fullname': <function __main__.Employee.fullname(self)>,\n",
       "              'apply_raise': <function __main__.Employee.apply_raise(self)>,\n",
       "              '__dict__': <attribute '__dict__' of 'Employee' objects>,\n",
       "              '__weakref__': <attribute '__weakref__' of 'Employee' objects>,\n",
       "              '__doc__': None})"
      ]
     },
     "execution_count": 15,
     "metadata": {},
     "output_type": "execute_result"
    }
   ],
   "source": [
    "Employee.__dict__"
   ]
  },
  {
   "cell_type": "code",
   "execution_count": 17,
   "id": "7ca2a0ca",
   "metadata": {},
   "outputs": [],
   "source": [
    "#changing raise for all\n",
    "Employee.salary_raise=0.5"
   ]
  },
  {
   "cell_type": "code",
   "execution_count": 18,
   "id": "5d7a7fda",
   "metadata": {},
   "outputs": [
    {
     "data": {
      "text/plain": [
       "'raised salary is 25000.0'"
      ]
     },
     "execution_count": 18,
     "metadata": {},
     "output_type": "execute_result"
    }
   ],
   "source": [
    "emp_1.apply_raise()"
   ]
  },
  {
   "cell_type": "code",
   "execution_count": 19,
   "id": "340effd3",
   "metadata": {},
   "outputs": [
    {
     "data": {
      "text/plain": [
       "'raised salary is 40000.0'"
      ]
     },
     "execution_count": 19,
     "metadata": {},
     "output_type": "execute_result"
    }
   ],
   "source": [
    "#changing raise for only one employee.\n",
    "emp_1.salary_raise=0.80\n",
    "emp_1.apply_raise()"
   ]
  },
  {
   "cell_type": "code",
   "execution_count": 21,
   "id": "f0327439",
   "metadata": {},
   "outputs": [
    {
     "data": {
      "text/plain": [
       "('raised salary is 30000.0', 0.5)"
      ]
     },
     "execution_count": 21,
     "metadata": {},
     "output_type": "execute_result"
    }
   ],
   "source": [
    "#only emp_1 raise is changed emp2 raise is still 0.5\n",
    "emp_2.apply_raise(),emp_2.salary_raise"
   ]
  },
  {
   "cell_type": "code",
   "execution_count": 22,
   "id": "d318fa8f",
   "metadata": {},
   "outputs": [
    {
     "data": {
      "text/plain": [
       "{'first': 'Corey',\n",
       " 'last': 'Schafer',\n",
       " 'email': 'Corey.Schafer@email.com',\n",
       " 'pay': 50000,\n",
       " 'salary_raise': 0.8}"
      ]
     },
     "execution_count": 22,
     "metadata": {},
     "output_type": "execute_result"
    }
   ],
   "source": [
    "emp_1.__dict__"
   ]
  },
  {
   "cell_type": "markdown",
   "id": "e1a6d43e",
   "metadata": {},
   "source": [
    "# TRACKING THE NUMBER OF EMPLOYEE CREATED"
   ]
  },
  {
   "cell_type": "code",
   "execution_count": 24,
   "id": "24829389",
   "metadata": {},
   "outputs": [],
   "source": [
    "#Not using self .no_of_employee because of constant class value that can be over ridden per instance if we really need it and/\n",
    "#because we dont need to change value for any instance created"
   ]
  },
  {
   "cell_type": "code",
   "execution_count": 41,
   "id": "d5783a40",
   "metadata": {},
   "outputs": [],
   "source": [
    "\n",
    "class Employee:\n",
    "    #class variable\n",
    "    no_of_emp=0\n",
    "    salary_raise=1.41\n",
    "    def __init__(self, first, last, pay):\n",
    "        self.first = first\n",
    "        self.last = last\n",
    "        self.email = first + '.' + last + '@email.com'\n",
    "        self.pay = pay\n",
    "        Employee.no_of_emp+=1\n",
    "        #employee number (sequence in which they entered)\n",
    "        self.variable=Employee.no_of_emp\n",
    "\n",
    "    def fullname(self):\n",
    "        return '{} {}'.format(self.first, self.last)\n",
    "    def apply_raise(self):\n",
    "        return \"raised salary is {}\".format(self.salary_raise*self.pay) # or ypu can call class variable with employee.salary_raise\n",
    "\n",
    "emp_1 = Employee('my', \"email\", 50000)\n",
    "emp_2 = Employee('Test', 'Employee', 60000)\n"
   ]
  },
  {
   "cell_type": "code",
   "execution_count": 42,
   "id": "677372cb",
   "metadata": {},
   "outputs": [
    {
     "data": {
      "text/plain": [
       "2"
      ]
     },
     "execution_count": 42,
     "metadata": {},
     "output_type": "execute_result"
    }
   ],
   "source": [
    "Employee.no_of_emp"
   ]
  },
  {
   "cell_type": "code",
   "execution_count": 45,
   "id": "be771ce4",
   "metadata": {},
   "outputs": [
    {
     "data": {
      "text/plain": [
       "{'first': 'my',\n",
       " 'last': 'email',\n",
       " 'email': 'my.email@email.com',\n",
       " 'pay': 50000,\n",
       " 'variable': 1}"
      ]
     },
     "execution_count": 45,
     "metadata": {},
     "output_type": "execute_result"
    }
   ],
   "source": [
    "emp_1.__dict__"
   ]
  },
  {
   "cell_type": "code",
   "execution_count": 44,
   "id": "ae0862fd",
   "metadata": {},
   "outputs": [
    {
     "data": {
      "text/plain": [
       "{'first': 'Test',\n",
       " 'last': 'Employee',\n",
       " 'email': 'Test.Employee@email.com',\n",
       " 'pay': 60000,\n",
       " 'variable': 2}"
      ]
     },
     "execution_count": 44,
     "metadata": {},
     "output_type": "execute_result"
    }
   ],
   "source": [
    "emp_2.__dict__"
   ]
  },
  {
   "cell_type": "code",
   "execution_count": null,
   "id": "48cd5bba",
   "metadata": {},
   "outputs": [],
   "source": []
  }
 ],
 "metadata": {
  "kernelspec": {
   "display_name": "Python 3 (ipykernel)",
   "language": "python",
   "name": "python3"
  },
  "language_info": {
   "codemirror_mode": {
    "name": "ipython",
    "version": 3
   },
   "file_extension": ".py",
   "mimetype": "text/x-python",
   "name": "python",
   "nbconvert_exporter": "python",
   "pygments_lexer": "ipython3",
   "version": "3.9.12"
  }
 },
 "nbformat": 4,
 "nbformat_minor": 5
}
