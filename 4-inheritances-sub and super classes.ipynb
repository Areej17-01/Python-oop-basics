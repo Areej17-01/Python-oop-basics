{
 "cells": [
  {
   "cell_type": "markdown",
   "id": "d6b2b34b",
   "metadata": {},
   "source": [
    "### explaination:"
   ]
  },
  {
   "cell_type": "code",
   "execution_count": null,
   "id": "ad8ce84c",
   "metadata": {},
   "outputs": [],
   "source": [
    "# 1. What is inheritence?\n",
    "# It is a method that allows us to create a new class that shares the same attributes and method with the original function, and add some extra functionality to the new class. It also does not disturb the original class.\n",
    "\n",
    "\n",
    "# 2. How to make a class inherit from another class?\n",
    "# class Developer(Employee):\n",
    "\n",
    "\n",
    "# 3. Structure of classes and subclasses.\n",
    "# When we input a function to a subclass, python follows the 'method resolution order', which is the chain of classes that it goes through to find what the method is. All classes have the built-in group of methods and attributes as their primary order.\n",
    "\n",
    "\n",
    "# 4. How to initiate the subclass so that it can handle more information than its original class can?\n",
    "# There are 2 ways.\n",
    "# first, using the super method as follows and pass in the arguments in interest.\n",
    "# super.__init__()\n",
    "\n",
    "\n",
    "# Second, call the parent's init method explicitly and pass in the arguments in interest.\n",
    "# Employee.init(self, first, last, )\n",
    "\n",
    "\n",
    "# 5. Useful tools when exploring the inheritance system.\n",
    "# .isinstance(instance, class)\n",
    "# This method returns the boolean value of whether an instance belongs to a calss\n",
    "# .issubclass(subclass, class)\n",
    "# This method returns the boolean value of whether a class has inherited from the second class.\n",
    "\n",
    "\n",
    "# 6. Example of class inheritance\n",
    "# Whisky library \n",
    "\n",
    "# ++ when setting a default value for an ungiven argument, avoid using an empty mutable data type. That's a topic for another video."
   ]
  },
  {
   "cell_type": "code",
   "execution_count": null,
   "id": "69bdbcc7",
   "metadata": {},
   "outputs": [],
   "source": []
  },
  {
   "cell_type": "markdown",
   "id": "ae8161bd",
   "metadata": {},
   "source": [
    "# Car and its owners"
   ]
  },
  {
   "cell_type": "markdown",
   "id": "84c0fbaa",
   "metadata": {},
   "source": [
    "## Super Class"
   ]
  },
  {
   "cell_type": "code",
   "execution_count": 40,
   "id": "2883a9c4",
   "metadata": {},
   "outputs": [],
   "source": [
    "class car:\n",
    "    tax=0.20\n",
    "    no_of_car=0\n",
    "    car_exclusives_price=None\n",
    "    def __init__(self,model,year,price):\n",
    "        self.model=model\n",
    "        self.year=year\n",
    "        self.price=price\n",
    "        car.no_of_car+=1\n",
    "        self.index=car.no_of_car\n",
    "        \n",
    "    def tax_oncar(self):\n",
    "        price_wt=self.price+self.price*self.tax\n",
    "        return(price_wt)\n",
    "    \n",
    "    def discount(self,percent):\n",
    "        percent=percent/100\n",
    "        price_wt=car.tax_oncar(self)\n",
    "        self.price=price_wt-self.price*percent\n",
    "        return(self.price)\n",
    "    \n",
    "    def extras(self,value):\n",
    "        global car_exclusives_price\n",
    "        car_exclusives_price=value\n",
    "        \n",
    "    def total(self):\n",
    "        total_price=car_exclusives_price+self.price\n",
    "        return(total_price)\n",
    "    @classmethod\n",
    "    def change_tax(cls,val):\n",
    "        #can't pass class as arg as class is built-in and is against variable naming rules.\n",
    "        #cls mentioning is imp\n",
    "        cls.tax=val\n",
    "    "
   ]
  },
  {
   "cell_type": "markdown",
   "id": "9eea754e",
   "metadata": {},
   "source": [
    "## Sub class 1"
   ]
  },
  {
   "cell_type": "code",
   "execution_count": 59,
   "id": "00557fd1",
   "metadata": {},
   "outputs": [],
   "source": [
    "class type_of_car(car):\n",
    "    def __init__(self,model,year,price,car_type):\n",
    "        super().__init__(model,year,price)\n",
    "        self.car_type=car_type"
   ]
  },
  {
   "cell_type": "code",
   "execution_count": 78,
   "id": "b7457b12",
   "metadata": {},
   "outputs": [],
   "source": [
    "class owner():\n",
    "    def __init__(self,id_no,name,cars=None):\n",
    "        #super().__init__(self,model,year,price,car_type)\n",
    "        self.id_no=id_no\n",
    "        self.name=name\n",
    "        if cars is None:\n",
    "            self.cars=[]\n",
    "        else:\n",
    "            self.cars=cars\n",
    "\n",
    "    def add_car(self, car):\n",
    "        if car not in self.cars:\n",
    "            self.cars.append(car)\n",
    "\n",
    "    def remove_car(self, car):\n",
    "        if car in self.cars:\n",
    "            self.cars.remove(car)\n",
    "\n",
    "    def print_car(self):\n",
    "        for i in self.cars:\n",
    "            print('-->', i.model)"
   ]
  },
  {
   "cell_type": "code",
   "execution_count": 79,
   "id": "1b7b26a4",
   "metadata": {},
   "outputs": [],
   "source": [
    "car1=type_of_car(\"audi\",2017,75000,\"suv\")\n",
    "car2=type_of_car(\"audi\",2017,75000,\"hatchback\")"
   ]
  },
  {
   "cell_type": "code",
   "execution_count": 213,
   "id": "7784d64b",
   "metadata": {},
   "outputs": [
    {
     "name": "stdout",
     "output_type": "stream",
     "text": [
      "Help on type_of_car in module __main__ object:\n",
      "\n",
      "class type_of_car(car)\n",
      " |  type_of_car(model, year, price, car_type)\n",
      " |  \n",
      " |  Method resolution order:\n",
      " |      type_of_car\n",
      " |      car\n",
      " |      builtins.object\n",
      " |  \n",
      " |  Methods defined here:\n",
      " |  \n",
      " |  __init__(self, model, year, price, car_type)\n",
      " |  \n",
      " |  ----------------------------------------------------------------------\n",
      " |  Methods inherited from car:\n",
      " |  \n",
      " |  discount(self, percent)\n",
      " |  \n",
      " |  extras(self, value)\n",
      " |  \n",
      " |  tax_oncar(self)\n",
      " |  \n",
      " |  total(self)\n",
      " |  \n",
      " |  ----------------------------------------------------------------------\n",
      " |  Class methods inherited from car:\n",
      " |  \n",
      " |  change_tax(val) from builtins.type\n",
      " |  \n",
      " |  ----------------------------------------------------------------------\n",
      " |  Data descriptors inherited from car:\n",
      " |  \n",
      " |  __dict__\n",
      " |      dictionary for instance variables (if defined)\n",
      " |  \n",
      " |  __weakref__\n",
      " |      list of weak references to the object (if defined)\n",
      " |  \n",
      " |  ----------------------------------------------------------------------\n",
      " |  Data and other attributes inherited from car:\n",
      " |  \n",
      " |  car_exclusives_price = None\n",
      " |  \n",
      " |  no_of_car = 9\n",
      " |  \n",
      " |  tax = 0.2\n",
      "\n",
      "None\n"
     ]
    }
   ],
   "source": [
    "print(help(car1))\n",
    "#help: It's recommended to try it in your interpreter when you need help to write Python program and use Python modules.\n",
    "#here it tells what is being parsed in Sub class cook"
   ]
  },
  {
   "cell_type": "code",
   "execution_count": 80,
   "id": "2024967e",
   "metadata": {},
   "outputs": [],
   "source": [
    "owner1=owner(107,\"human1\",[car1])"
   ]
  },
  {
   "cell_type": "code",
   "execution_count": 83,
   "id": "b55c2469",
   "metadata": {},
   "outputs": [],
   "source": [
    "owner1.add_car(car2)"
   ]
  },
  {
   "cell_type": "code",
   "execution_count": 85,
   "id": "f1afc439",
   "metadata": {},
   "outputs": [
    {
     "data": {
      "text/plain": [
       "{'id_no': 107,\n",
       " 'name': 'human1',\n",
       " 'cars': [<__main__.type_of_car at 0x24722329ca0>,\n",
       "  <__main__.type_of_car at 0x24722329dc0>]}"
      ]
     },
     "execution_count": 85,
     "metadata": {},
     "output_type": "execute_result"
    }
   ],
   "source": [
    "owner1.__dict__"
   ]
  },
  {
   "cell_type": "markdown",
   "id": "b65991ed",
   "metadata": {},
   "source": [
    "### Question 2"
   ]
  },
  {
   "cell_type": "markdown",
   "id": "cd7b4d83",
   "metadata": {},
   "source": [
    "##### SCHOOL ADMINISTRATION:"
   ]
  },
  {
   "cell_type": "code",
   "execution_count": 198,
   "id": "c16be3ef",
   "metadata": {},
   "outputs": [],
   "source": [
    "class member():\n",
    "    email_no=0\n",
    "    def __init__(self,id_no,firstname,lastname,designation):\n",
    "        self.id_no=id_no\n",
    "        self.firstname=firstname\n",
    "        self.lastname=lastname\n",
    "        self.designation=designation\n",
    "        self.fullname=None\n",
    "        \n",
    "    def create_email(self):\n",
    "        email=self.firstname+ self.lastname+str(self.email_no)+\"@gmail.com\"\n",
    "        self.email_no+=1\n",
    "        \n",
    "        return(email)\n",
    "    def full_name(self):\n",
    "        self.fullname=self.firstname+\" \"+ self.lastname\n",
    "        print(self.fullname)\n",
    "        \n",
    "        "
   ]
  },
  {
   "cell_type": "code",
   "execution_count": 199,
   "id": "3551b5a6",
   "metadata": {},
   "outputs": [
    {
     "name": "stdout",
     "output_type": "stream",
     "text": [
      "ironman idk\n",
      "batman idk\n"
     ]
    }
   ],
   "source": [
    "stud1=member(\"100\",\"ironman\",\"idk\",\"student\")\n",
    "stud1.create_email()\n",
    "\n",
    "stud1.full_name()\n",
    "stud2=member(\"101\",\"batman\",\"idk\",\"student\")\n",
    "stud2.create_email()\n",
    "stud2.full_name()"
   ]
  },
  {
   "cell_type": "code",
   "execution_count": 200,
   "id": "329b23df",
   "metadata": {},
   "outputs": [],
   "source": [
    "class teacher_sub(member):\n",
    "    def __init__(self,id_no,firstname,lastname,designation,subject):\n",
    "        super().__init__(id_no,firstname,lastname,designation)\n",
    "        self.subject=subject"
   ]
  },
  {
   "cell_type": "code",
   "execution_count": 201,
   "id": "4f05546e",
   "metadata": {},
   "outputs": [
    {
     "name": "stdout",
     "output_type": "stream",
     "text": [
      "Charlse X Xavier\n"
     ]
    }
   ],
   "source": [
    "teacher1=teacher_sub(\"200\",\"Charlse X\",\"Xavier\",\"Teacher\",\"Physics\")\n",
    "teacher1.create_email()\n",
    "teacher1.full_name()"
   ]
  },
  {
   "cell_type": "code",
   "execution_count": 202,
   "id": "cde59c89",
   "metadata": {},
   "outputs": [],
   "source": [
    "class teacher(teacher_sub):\n",
    "    def __init__(self,id_no,firstname,lastname,designation,subject,students=None):\n",
    "        super().__init__(id_no,firstname,lastname,designation,subject)\n",
    "        if students is None:\n",
    "            self.students=[]\n",
    "        else:\n",
    "            self.students=students\n",
    "    def add_stud(self,student):\n",
    "        if student not in self.students:\n",
    "            self.students.append(student)\n",
    "    def remove_stud(self,student):\n",
    "        if student in self.students:\n",
    "            self.students.remove(student)\n",
    "    def print_stud(self):\n",
    "        if self.students==[]:\n",
    "            print(\"empty\")\n",
    "        else:\n",
    "            for i in self.students:\n",
    "                print(\"fullname: \",i.full_name,\" id: \",i.id_no)\n"
   ]
  },
  {
   "cell_type": "code",
   "execution_count": 203,
   "id": "0a26e84d",
   "metadata": {},
   "outputs": [
    {
     "name": "stdout",
     "output_type": "stream",
     "text": [
      "Magneto idk\n"
     ]
    }
   ],
   "source": [
    "teacher2=teacher(\"201\",\"Magneto\",\"idk\",\"Teacher\",\"chemistry\")\n",
    "teacher2.create_email()\n",
    "teacher2.full_name()"
   ]
  },
  {
   "cell_type": "code",
   "execution_count": 204,
   "id": "6513562e",
   "metadata": {},
   "outputs": [
    {
     "data": {
      "text/plain": [
       "{'id_no': '201',\n",
       " 'firstname': 'Magneto',\n",
       " 'lastname': 'idk',\n",
       " 'designation': 'Teacher',\n",
       " 'fullname': 'Magneto idk',\n",
       " 'subject': 'chemistry',\n",
       " 'students': [],\n",
       " 'email_no': 1}"
      ]
     },
     "execution_count": 204,
     "metadata": {},
     "output_type": "execute_result"
    }
   ],
   "source": [
    "teacher2.__dict__"
   ]
  },
  {
   "cell_type": "code",
   "execution_count": 205,
   "id": "45258680",
   "metadata": {},
   "outputs": [
    {
     "name": "stdout",
     "output_type": "stream",
     "text": [
      "empty\n"
     ]
    }
   ],
   "source": [
    "teacher2.print_stud()"
   ]
  },
  {
   "cell_type": "code",
   "execution_count": 206,
   "id": "b26f3420",
   "metadata": {},
   "outputs": [],
   "source": [
    "teacher2.add_stud(stud1)"
   ]
  },
  {
   "cell_type": "code",
   "execution_count": 207,
   "id": "6c02215f",
   "metadata": {},
   "outputs": [
    {
     "name": "stdout",
     "output_type": "stream",
     "text": [
      "fullname:  <bound method member.full_name of <__main__.member object at 0x00000247231FAF40>>  id:  100\n"
     ]
    }
   ],
   "source": [
    "teacher2.print_stud()"
   ]
  },
  {
   "cell_type": "code",
   "execution_count": 208,
   "id": "06eb1e0b",
   "metadata": {},
   "outputs": [],
   "source": [
    "teacher2.add_stud(stud2)"
   ]
  },
  {
   "cell_type": "code",
   "execution_count": 209,
   "id": "0cb37efa",
   "metadata": {},
   "outputs": [
    {
     "data": {
      "text/plain": [
       "{'id_no': '201',\n",
       " 'firstname': 'Magneto',\n",
       " 'lastname': 'idk',\n",
       " 'designation': 'Teacher',\n",
       " 'fullname': 'Magneto idk',\n",
       " 'subject': 'chemistry',\n",
       " 'students': [<__main__.member at 0x247231faf40>,\n",
       "  <__main__.member at 0x247231fafd0>],\n",
       " 'email_no': 1}"
      ]
     },
     "execution_count": 209,
     "metadata": {},
     "output_type": "execute_result"
    }
   ],
   "source": [
    "teacher2.__dict__"
   ]
  },
  {
   "cell_type": "code",
   "execution_count": 211,
   "id": "bc162526",
   "metadata": {},
   "outputs": [],
   "source": [
    "teacher2.remove_stud(stud2)"
   ]
  },
  {
   "cell_type": "code",
   "execution_count": 212,
   "id": "32a7d9b2",
   "metadata": {},
   "outputs": [
    {
     "data": {
      "text/plain": [
       "{'id_no': '201',\n",
       " 'firstname': 'Magneto',\n",
       " 'lastname': 'idk',\n",
       " 'designation': 'Teacher',\n",
       " 'fullname': 'Magneto idk',\n",
       " 'subject': 'chemistry',\n",
       " 'students': [<__main__.member at 0x247231faf40>],\n",
       " 'email_no': 1}"
      ]
     },
     "execution_count": 212,
     "metadata": {},
     "output_type": "execute_result"
    }
   ],
   "source": [
    "teacher2.__dict__"
   ]
  },
  {
   "cell_type": "code",
   "execution_count": null,
   "id": "dde093e6",
   "metadata": {},
   "outputs": [],
   "source": []
  }
 ],
 "metadata": {
  "kernelspec": {
   "display_name": "Python 3 (ipykernel)",
   "language": "python",
   "name": "python3"
  },
  "language_info": {
   "codemirror_mode": {
    "name": "ipython",
    "version": 3
   },
   "file_extension": ".py",
   "mimetype": "text/x-python",
   "name": "python",
   "nbconvert_exporter": "python",
   "pygments_lexer": "ipython3",
   "version": "3.9.12"
  }
 },
 "nbformat": 4,
 "nbformat_minor": 5
}
