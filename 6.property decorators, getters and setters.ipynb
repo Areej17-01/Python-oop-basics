{
 "cells": [
  {
   "cell_type": "markdown",
   "id": "853afdd4",
   "metadata": {},
   "source": [
    "#property decorators :what if a user want to change just few things in instance and what we can do is update the them autamatically through our property decorators  (getters) and setters do the same"
   ]
  },
  {
   "cell_type": "markdown",
   "id": "371ddb19",
   "metadata": {},
   "source": [
    "you can then acces your methods as attributes with property (getter)"
   ]
  },
  {
   "cell_type": "markdown",
   "id": "ab637565",
   "metadata": {},
   "source": [
    "### property decorator"
   ]
  },
  {
   "cell_type": "code",
   "execution_count": 49,
   "id": "49b8a0f6",
   "metadata": {},
   "outputs": [],
   "source": [
    "class member():\n",
    "    email_no=0\n",
    "    def __init__(self,id_no,firstname,lastname,designation,salary=None):\n",
    "        self.id_no=id_no\n",
    "        self.firstname=firstname\n",
    "        self.lastname=lastname\n",
    "        self.designation=designation\n",
    "        self.fullname=None\n",
    "        self.salary=salary\n",
    "        self.email=None\n",
    "    @property \n",
    "    def create_email(self):\n",
    "        self.email=self.firstname+ self.lastname+str(self.email_no)+\"@gmail.com\"\n",
    "        self.email_no+=1\n",
    "        return(self.email)\n",
    "    @property\n",
    "    def full_name(self):\n",
    "        self.fullname=self.firstname+\" \"+ self.lastname\n",
    "        return(self.fullname)\n",
    "    "
   ]
  },
  {
   "cell_type": "code",
   "execution_count": 50,
   "id": "d911ea3f",
   "metadata": {},
   "outputs": [
    {
     "data": {
      "text/plain": [
       "{'id_no': 1,\n",
       " 'firstname': 'John',\n",
       " 'lastname': 'Smith',\n",
       " 'designation': 'student',\n",
       " 'fullname': 'John Smith',\n",
       " 'salary': None,\n",
       " 'email': 'JohnSmith0@gmail.com',\n",
       " 'email_no': 1}"
      ]
     },
     "execution_count": 50,
     "metadata": {},
     "output_type": "execute_result"
    }
   ],
   "source": [
    "emp_1 = member(1,'John', 'Smith',\"student\")\n",
    "emp_1.create_email\n",
    "emp_1.full_name\n",
    "emp_1.__dict__"
   ]
  },
  {
   "cell_type": "code",
   "execution_count": 38,
   "id": "f3f81ec2",
   "metadata": {},
   "outputs": [],
   "source": [
    "emp_1.firstname=\"jam\""
   ]
  },
  {
   "cell_type": "code",
   "execution_count": 39,
   "id": "dd644265",
   "metadata": {},
   "outputs": [
    {
     "data": {
      "text/plain": [
       "{'id_no': 1,\n",
       " 'firstname': 'jam',\n",
       " 'lastname': 'Smith',\n",
       " 'designation': 'student',\n",
       " 'fullname': None,\n",
       " 'salary': None,\n",
       " 'email': None,\n",
       " 'first': 'jam'}"
      ]
     },
     "execution_count": 39,
     "metadata": {},
     "output_type": "execute_result"
    }
   ],
   "source": [
    "emp_1.__dict__"
   ]
  },
  {
   "cell_type": "markdown",
   "id": "f97c40ef",
   "metadata": {},
   "source": [
    "### getter and setters"
   ]
  },
  {
   "cell_type": "code",
   "execution_count": 71,
   "id": "9b1c2280",
   "metadata": {},
   "outputs": [],
   "source": [
    "class member():\n",
    "    email_no=0\n",
    "    def __init__(self,id_no,firstname,lastname,designation,salary=None):\n",
    "        self.id_no=id_no\n",
    "        self.firstname=firstname\n",
    "        self.lastname=lastname\n",
    "        self.designation=designation\n",
    "        self.fullname=None\n",
    "        self.salary=salary\n",
    "        self.email=None\n",
    "        \n",
    "    @property\n",
    "    def full_name(self):\n",
    "        fullname=self.firstname+\" \"+ self.lastname\n",
    "        return(fullname)\n",
    "    \n",
    "    @full_name.setter\n",
    "    def full_name(self, name):\n",
    "        first, last = name.split(' ')\n",
    "        self.fullname=name\n",
    "        self.firstname = first\n",
    "        self.lastname = last\n",
    "\n",
    "    @full_name.deleter\n",
    "    def full_name(self):\n",
    "        print('Delete Name!')\n",
    "        self.fullname=None\n",
    "        \n",
    "        self.firstname = None\n",
    "        self.lastname = None"
   ]
  },
  {
   "cell_type": "code",
   "execution_count": 75,
   "id": "034ca102",
   "metadata": {},
   "outputs": [
    {
     "data": {
      "text/plain": [
       "{'id_no': 1,\n",
       " 'firstname': 'John',\n",
       " 'lastname': 'Smith',\n",
       " 'designation': 'student',\n",
       " 'fullname': None,\n",
       " 'salary': None,\n",
       " 'email': None}"
      ]
     },
     "execution_count": 75,
     "metadata": {},
     "output_type": "execute_result"
    }
   ],
   "source": [
    "emp_1 = member(1,'John', 'Smith',\"student\")\n",
    "\n",
    "emp_1.__dict__"
   ]
  },
  {
   "cell_type": "code",
   "execution_count": 76,
   "id": "8947b15d",
   "metadata": {},
   "outputs": [],
   "source": [
    "emp_1.full_name=\"bat man\""
   ]
  },
  {
   "cell_type": "code",
   "execution_count": 77,
   "id": "c74fb313",
   "metadata": {},
   "outputs": [
    {
     "data": {
      "text/plain": [
       "{'id_no': 1,\n",
       " 'firstname': 'bat',\n",
       " 'lastname': 'man',\n",
       " 'designation': 'student',\n",
       " 'fullname': 'bat man',\n",
       " 'salary': None,\n",
       " 'email': None}"
      ]
     },
     "execution_count": 77,
     "metadata": {},
     "output_type": "execute_result"
    }
   ],
   "source": [
    "emp_1.__dict__"
   ]
  },
  {
   "cell_type": "code",
   "execution_count": 78,
   "id": "70beb395",
   "metadata": {},
   "outputs": [
    {
     "name": "stdout",
     "output_type": "stream",
     "text": [
      "Delete Name!\n"
     ]
    }
   ],
   "source": [
    "del emp_1.full_name"
   ]
  },
  {
   "cell_type": "code",
   "execution_count": 79,
   "id": "7f168c97",
   "metadata": {},
   "outputs": [
    {
     "data": {
      "text/plain": [
       "{'id_no': 1,\n",
       " 'firstname': None,\n",
       " 'lastname': None,\n",
       " 'designation': 'student',\n",
       " 'fullname': None,\n",
       " 'salary': None,\n",
       " 'email': None}"
      ]
     },
     "execution_count": 79,
     "metadata": {},
     "output_type": "execute_result"
    }
   ],
   "source": [
    "emp_1.__dict__"
   ]
  },
  {
   "cell_type": "code",
   "execution_count": null,
   "id": "af27f92e",
   "metadata": {},
   "outputs": [],
   "source": []
  }
 ],
 "metadata": {
  "kernelspec": {
   "display_name": "Python 3 (ipykernel)",
   "language": "python",
   "name": "python3"
  },
  "language_info": {
   "codemirror_mode": {
    "name": "ipython",
    "version": 3
   },
   "file_extension": ".py",
   "mimetype": "text/x-python",
   "name": "python",
   "nbconvert_exporter": "python",
   "pygments_lexer": "ipython3",
   "version": "3.9.12"
  }
 },
 "nbformat": 4,
 "nbformat_minor": 5
}
