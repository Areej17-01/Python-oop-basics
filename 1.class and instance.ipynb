{
 "cells": [
  {
   "cell_type": "code",
   "execution_count": 1,
   "id": "21242cc9",
   "metadata": {},
   "outputs": [],
   "source": [
    "class Employee:\n",
    "    pass"
   ]
  },
  {
   "cell_type": "code",
   "execution_count": 2,
   "id": "2f9a9532",
   "metadata": {},
   "outputs": [],
   "source": [
    "emp1=Employee()"
   ]
  },
  {
   "cell_type": "code",
   "execution_count": 8,
   "id": "e6c4dba6",
   "metadata": {},
   "outputs": [],
   "source": [
    "emp1.name=\"Areej\""
   ]
  },
  {
   "cell_type": "code",
   "execution_count": 9,
   "id": "cbe2f125",
   "metadata": {},
   "outputs": [
    {
     "name": "stdout",
     "output_type": "stream",
     "text": [
      "Areej\n"
     ]
    }
   ],
   "source": [
    "print(emp1.name)"
   ]
  },
  {
   "cell_type": "code",
   "execution_count": 86,
   "id": "468c012b",
   "metadata": {},
   "outputs": [],
   "source": [
    "class Employee:\n",
    "#creating instance this instance take self and other arguments which will pass into all methods(functions)\n",
    "# by just mentioning self int their attributes i can call self whatever i want  \n",
    "# The self parameter is a reference to the current instance of the class, \n",
    "#and is used to access variables that belong to the class.\n",
    "    def __init__(self,lastname,firstname):\n",
    "        self.lastname=lastname\n",
    "        self.firstname=firstname\n",
    "        lastname=self.lastname\n",
    "        self.fullname=firstname+lastname\n",
    "#other method/func for creating email by its own can pass seperate attributes too in functions\n",
    "    def email(self,age):\n",
    "        ep=self.lastname+self.firstname+age+\"@gmail.com\"\n",
    "        return(ep)"
   ]
  },
  {
   "cell_type": "code",
   "execution_count": 87,
   "id": "febbba16",
   "metadata": {},
   "outputs": [],
   "source": [
    "emp1=Employee(\"Mehboob\",\"Areej\")"
   ]
  },
  {
   "cell_type": "code",
   "execution_count": 88,
   "id": "df87f5b8",
   "metadata": {},
   "outputs": [
    {
     "data": {
      "text/plain": [
       "'MehboobAreej20@gmail.com'"
      ]
     },
     "execution_count": 88,
     "metadata": {},
     "output_type": "execute_result"
    }
   ],
   "source": [
    "emp1.email(\"20\")"
   ]
  },
  {
   "cell_type": "code",
   "execution_count": 89,
   "id": "2fbc7815",
   "metadata": {},
   "outputs": [
    {
     "data": {
      "text/plain": [
       "'AreejMehboob'"
      ]
     },
     "execution_count": 89,
     "metadata": {},
     "output_type": "execute_result"
    }
   ],
   "source": [
    "#calling full name, created it in instance:\n",
    "emp1.fullname"
   ]
  },
  {
   "cell_type": "code",
   "execution_count": 90,
   "id": "425853fe",
   "metadata": {},
   "outputs": [
    {
     "name": "stdout",
     "output_type": "stream",
     "text": [
      "AreejMehboob20@gmail.com\n"
     ]
    }
   ],
   "source": [
    "#Another way to call\n",
    "print(Employee(\"Areej\",\"Mehboob\").email(\"20\"))"
   ]
  },
  {
   "cell_type": "code",
   "execution_count": 91,
   "id": "cdb8e116",
   "metadata": {},
   "outputs": [
    {
     "data": {
      "text/plain": [
       "'MehboobAreej20@gmail.com'"
      ]
     },
     "execution_count": 91,
     "metadata": {},
     "output_type": "execute_result"
    }
   ],
   "source": [
    "Employee.email(emp1,\"20\")"
   ]
  },
  {
   "cell_type": "code",
   "execution_count": 92,
   "id": "52c3056a",
   "metadata": {},
   "outputs": [],
   "source": [
    "class Employee:\n",
    "    def __init__(self,lastname,firstname):\n",
    "        self.lastname=lastname\n",
    "        self.firstname=firstname\n",
    "        lastname=self.lastname\n",
    "        self.fullname=firstname+lastname\n",
    "    def email(self):\n",
    "        ep=self.lastname+self.firstname+\"@gmail.com\"\n",
    "        return(ep)"
   ]
  },
  {
   "cell_type": "code",
   "execution_count": 93,
   "id": "b504b029",
   "metadata": {},
   "outputs": [
    {
     "data": {
      "text/plain": [
       "'MehboobAreej@gmail.com'"
      ]
     },
     "execution_count": 93,
     "metadata": {},
     "output_type": "execute_result"
    }
   ],
   "source": [
    "Employee.email(emp1)"
   ]
  },
  {
   "cell_type": "code",
   "execution_count": 64,
   "id": "5f49d20c",
   "metadata": {},
   "outputs": [
    {
     "name": "stdout",
     "output_type": "stream",
     "text": [
      "1 1\n",
      "2 2\n"
     ]
    }
   ],
   "source": [
    "#extra\n",
    "for i,j in zip([1,2],[1,2]):\n",
    "    print(i,j)"
   ]
  },
  {
   "cell_type": "code",
   "execution_count": null,
   "id": "d96f8a52",
   "metadata": {},
   "outputs": [],
   "source": []
  }
 ],
 "metadata": {
  "kernelspec": {
   "display_name": "Python 3 (ipykernel)",
   "language": "python",
   "name": "python3"
  },
  "language_info": {
   "codemirror_mode": {
    "name": "ipython",
    "version": 3
   },
   "file_extension": ".py",
   "mimetype": "text/x-python",
   "name": "python",
   "nbconvert_exporter": "python",
   "pygments_lexer": "ipython3",
   "version": "3.9.12"
  }
 },
 "nbformat": 4,
 "nbformat_minor": 5
}
